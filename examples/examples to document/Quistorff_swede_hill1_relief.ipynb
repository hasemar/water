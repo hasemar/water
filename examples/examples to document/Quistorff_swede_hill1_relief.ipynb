{
 "cells": [
  {
   "cell_type": "markdown",
   "metadata": {},
   "source": [
    "<img src=diagram.png style=\"float:right;width:300px;height:400px;\">\n",
    "\n",
    "# Wellhead Relief Valve Sizing\n",
    "-----------\n",
    "## Quistorff Water System\n",
    "Well S05 - AAE039  \n",
    "Eng File \\#3825   \n",
    "Author: Ryan Haseman  \n",
    "Date: 5-20-2019 \n",
    "\n",
    "**Purpose:** \n",
    "Hydro-Pnuematics are insufficient at this site. This site will be converted from H-PH to VFD controlled. Wellhead plumbing to be re-piped and relief valve to be replaced. The relief valve serves to prevent the well pump from \"dead-heading\".\n"
   ]
  },
  {
   "cell_type": "code",
   "execution_count": 1,
   "metadata": {},
   "outputs": [],
   "source": [
    "from Water import Pipe, Pump, tools"
   ]
  },
  {
   "cell_type": "code",
   "execution_count": 2,
   "metadata": {},
   "outputs": [
    {
     "name": "stdout",
     "output_type": "stream",
     "text": [
      "Normal Flow = 80 gpm     Minimum Flow = 13 gpm\n"
     ]
    }
   ],
   "source": [
    "# maximum daily demand\n",
    "Q_normal = 80   # gpm\n",
    "Q_shutoff = 13  # gpm\n",
    "print('Normal Flow =', round(Q_normal,2), 'gpm', '    Minimum Flow =', round(Q_shutoff, 2), 'gpm')"
   ]
  },
  {
   "cell_type": "code",
   "execution_count": 3,
   "metadata": {},
   "outputs": [],
   "source": [
    "# elevations\n",
    "SWL = 122   # ft from top of well casing\n",
    "hiLot_elevation = 320     # ft\n",
    "wellhead_elevation = 287  # ft\n",
    "valve_height = 1.5       # ft\n",
    "\n",
    "# desired pressure at highest lot\n",
    "hiLot_pressure = tools.psi2ft(psi=45)   # ft of head"
   ]
  },
  {
   "cell_type": "code",
   "execution_count": 4,
   "metadata": {},
   "outputs": [
    {
     "name": "stdout",
     "output_type": "stream",
     "text": [
      "PWL under normal conditions = 145.89 ft bgs      PWL under shutoff conditions = 125.88 ft bgs\n"
     ]
    }
   ],
   "source": [
    "specific_capacity = 0.2986     # ft/gpm\n",
    "PWL_norm = SWL + Q_normal * specific_capacity   # ft from top of well casing\n",
    "PWL_shutoff = SWL + Q_shutoff * specific_capacity # at shutoff conditions\n",
    "print('PWL under normal conditions =', round(PWL_norm,2), 'ft bgs', '     PWL under shutoff conditions =', round(PWL_shutoff,2), 'ft bgs')"
   ]
  },
  {
   "cell_type": "markdown",
   "metadata": {},
   "source": [
    "### Losses"
   ]
  },
  {
   "cell_type": "code",
   "execution_count": 6,
   "metadata": {},
   "outputs": [],
   "source": [
    "riser_length = 168  # ft\n",
    "suction_depth = 172 # ft\n",
    "\n",
    "# pump to wellhead\n",
    "riser_length = 168  # ft\n",
    "pipe_pmp2wh = Pipe(length=riser_length, size=2, kind='GALVANIZED PIPE', sch=40)\n",
    "pipe_pmp2wh.fitting('valve', 'column_check', qty=1, Kvalue=3)\n",
    "\n",
    "# wellhead to distribution\n",
    "pipe_wh2dist = Pipe(length=108, size=3, kind='GALVANIZED PIPE', sch=40)\n",
    "pipe_wh2dist.fitting('tee_branch', 'standard_threaded', qty=2)\n",
    "pipe_wh2dist.fitting('elbow_90', 'standard_threaded', qty=1)\n",
    "pipe_wh2dist.fitting('flowmeter', 'turbine', qty=1, Kvalue=.1)\n",
    "pipe_wh2dist.fitting('tee_through', 'standard_threaded', qty=3)\n",
    "pipe_wh2dist.fitting('valve', 'gate', qty=1)\n",
    "\n",
    "# distribution to water main\n",
    "pipe_dist2ml = Pipe(length=200, size=2.5, kind='PVC', sch=40)\n",
    "pipe_dist2ml.fitting('tee_branch', 'standard_glued', qty=1)\n",
    "pipe_dist2ml.fitting('elbow_90', 'standard_glued', qty=1)\n",
    "pipe_dist2ml.fitting('valve', 'gate', qty=1)\n",
    "\n",
    "# mainline to hilot\n",
    "pipe_ml2hilot = Pipe(length=2500, size=8, kind='PVC', sch='C900 DR-18')\n",
    "pipe_ml2hilot.fitting('valve', 'gate', qty=1)"
   ]
  },
  {
   "cell_type": "code",
   "execution_count": 7,
   "metadata": {},
   "outputs": [
    {
     "name": "stdout",
     "output_type": "stream",
     "text": [
      "Discharge Losses under normal conditions: 40.53 ft        Discharge Losses under shutoff conditions: 0.91 ft\n"
     ]
    }
   ],
   "source": [
    "# calculating discharge side losses\n",
    "losses_norm = pipe_pmp2wh.get_losses(flow=Q_normal) +\\\n",
    "              pipe_wh2dist.get_losses(flow=Q_normal) +\\\n",
    "              pipe_dist2ml.get_losses(flow=Q_normal) +\\\n",
    "              pipe_ml2hilot.get_losses(flow=Q_normal)\n",
    "\n",
    "losses_shutoff = pipe_pmp2wh.get_losses(flow=Q_shutoff)\n",
    "\n",
    "# print result\n",
    "result = 'Discharge Losses under normal conditions: {:.2f} ft'.format(losses_norm)\n",
    "result2 = 'Discharge Losses under shutoff conditions: {:.2f} ft'.format(losses_shutoff)\n",
    "print(result, '      ',result2)"
   ]
  },
  {
   "cell_type": "code",
   "execution_count": 11,
   "metadata": {},
   "outputs": [
    {
     "name": "stdout",
     "output_type": "stream",
     "text": [
      "relief pressure at shutoff conditions = 248.29 psi\n",
      "normal operating well head pressure = 140.08 psi\n"
     ]
    }
   ],
   "source": [
    "# pressure at pump suction\n",
    "discharge_head = hiLot_pressure +\\\n",
    "                 hiLot_elevation +\\\n",
    "                 PWL_norm +\\\n",
    "                 losses_norm -\\\n",
    "                 wellhead_elevation\n",
    "pressure_norm = tools.ft2psi(discharge_head)\n",
    "\n",
    "# shutoff_head relative to valve\n",
    "shutoff_head = 650  # ft (from pump curve)\n",
    "head_at_minflow = 620  # ft\n",
    "high_head = head_at_minflow - (suction_depth - PWL_shutoff) - losses_shutoff\n",
    "relief_pressure = tools.ft2psi(high_head)\n",
    "\n",
    "print('relief pressure at shutoff conditions =',round(relief_pressure,2), 'psi')\n",
    "print('normal operating well head pressure =',round(pressure_norm,2), 'psi')"
   ]
  }
 ],
 "metadata": {
  "kernelspec": {
   "display_name": "Python 3",
   "language": "python",
   "name": "python3"
  },
  "language_info": {
   "codemirror_mode": {
    "name": "ipython",
    "version": 3
   },
   "file_extension": ".py",
   "mimetype": "text/x-python",
   "name": "python",
   "nbconvert_exporter": "python",
   "pygments_lexer": "ipython3",
   "version": "3.6.7"
  }
 },
 "nbformat": 4,
 "nbformat_minor": 2
}
