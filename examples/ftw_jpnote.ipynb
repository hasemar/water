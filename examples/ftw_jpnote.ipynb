{
 "cells": [
  {
   "cell_type": "markdown",
   "metadata": {},
   "source": [
    "# Filter-to-Waste Recycle Injection\n",
    "## Pump, System Curve and Control Valve Sizing\n",
    "This Jupyter Notebook walks through a python script that calculates the FTW recycle injection control valve \n",
    "position based on head conditions between high and low demand modes.\n",
    "Major and minor losses are taken into account from the FTW storage tank\n",
    "to the high water level at the DAF.\n",
    "\n",
    "Uses Water package developed by Ryan Haseman"
   ]
  },
  {
   "cell_type": "code",
   "execution_count": 1,
   "metadata": {},
   "outputs": [],
   "source": [
    "# importing necessary python libraries\n",
    "from __future__ import division, print_function\n",
    "import numpy as np\n",
    "import matplotlib.pyplot as plt\n",
    "from Water import *"
   ]
  },
  {
   "cell_type": "markdown",
   "metadata": {},
   "source": [
    "### Filter-to-Waste Storage Tank"
   ]
  },
  {
   "cell_type": "code",
   "execution_count": 2,
   "metadata": {},
   "outputs": [],
   "source": [
    "# define system info and create tank object\n",
    "# water system info\n",
    "system_name = \"Rosario\"\n",
    "station_name = \"Water Treatment Plant\"\n",
    "tank_data = {          \n",
    "    'name' : 'ftw_storage',\n",
    "    'diameter' : 11.75,\n",
    "    'height' : 13.08,\n",
    "    'freeboard' : 1.5,\n",
    "    'deadstorage' : 1.5,\n",
    "    'elevation' : 340\n",
    "}\n",
    "# create storage tank \n",
    "storage = Tank(**tank_data)   # FTW storage tank"
   ]
  },
  {
   "cell_type": "code",
   "execution_count": 3,
   "metadata": {},
   "outputs": [
    {
     "name": "stdout",
     "output_type": "stream",
     "text": [
      "\n",
      "            ftw_storage \r\n",
      "\n",
      "            Base Elevation:------------- 340 ft\n",
      "            Orientation:---------------- vertical\n",
      "            Tank Height:---------------- 13.08 ft\n",
      "            Tank Diameter:-------------- 11.75 ft\n",
      "            Tank cross-sectional area:-- 108.4 ft^2\n",
      "            Total volume:--------------- 10609.7 gal\n",
      "            Effective volume:----------- 8176.3 gal\n",
      "            \n"
     ]
    }
   ],
   "source": [
    "# print tank information\n",
    "print(storage.getInfo())"
   ]
  },
  {
   "cell_type": "markdown",
   "metadata": {},
   "source": [
    "### Flow parameters "
   ]
  },
  {
   "cell_type": "code",
   "execution_count": 4,
   "metadata": {},
   "outputs": [],
   "source": [
    "# flow parameters\n",
    "Q_hi = 23      # gpm\n",
    "Q_low = 14     # gpm\n",
    "Q_vec = np.linspace(Q_low, Q_hi, num=((Q_hi - Q_low)+1))  # <Q_low, ..., Q_hi>\n",
    "\n",
    "# Final pumping height\n",
    "outlet_height = 12      # ft  DAF water level "
   ]
  },
  {
   "cell_type": "markdown",
   "metadata": {},
   "source": [
    "## Pipe Section Definitions\n",
    "Suction and Discharge fittings and pipe sections are defined in order to calculate the Total Dynamic Head for the system."
   ]
  },
  {
   "cell_type": "code",
   "execution_count": 5,
   "metadata": {},
   "outputs": [],
   "source": [
    "################ SUCTION SIDE PIPE AND FITTINGS ################\n",
    "'''\n",
    "consists of: \n",
    "- storage tank to pump\n",
    "'''\n",
    "# pipe parameters \n",
    "s2p_size = 2  # in. (nom)\n",
    "s2p_len = 6   # ft \n",
    "s2p = Pipe(s2p_len, s2p_size, 'PVC', sch=80) # pipe section object\n",
    "\n",
    "# adding fittings to pipe section\n",
    "s2p.fitting('elbow_90', 'standard_glued', 3)\n",
    "s2p.fitting('valve', 'ball',2)"
   ]
  },
  {
   "cell_type": "code",
   "execution_count": 6,
   "metadata": {},
   "outputs": [],
   "source": [
    "################# DISCHARGE SIDE PIPE AND FITTINGS ####################\n",
    "'''\n",
    "consists of: \n",
    "- pump to reducer\n",
    "- reducer to injection point\n",
    "- injection point to DAF\n",
    "- 2\" bypass \n",
    "'''\n",
    "### pump to reducer ###\n",
    "# pipe parameters\n",
    "p2r_size = 1   # in. (nom)\n",
    "p2r_len = 2    # ft\n",
    "p2r = Pipe(p2r_len, p2r_size, 'PVC',sch=80)   # pipe object\n",
    "\n",
    "# fittings for pump to reducer section\n",
    "p2r.fitting('elbow_90', 'standard_glued', 1)\n",
    "p2r.fitting('tee_through', 'standard_glued', 1)\n",
    "p2r.fitting('reducer', 'standard_glued', 1, 0.8)\n",
    "\n",
    "### reducer to injection point ###\n",
    "# pipe parameters\n",
    "r2ip_size = 1.25   # in. (nom)\n",
    "r2ip_length = 50   # ft\n",
    "r2ip = Pipe(r2ip_length, r2ip_size, 'PVC', sch=40)     # pipe object\n",
    "\n",
    "# fittings for reducer to injection point section\n",
    "# (assuming control valve wide open)\n",
    "r2ip.fitting('elbow_90', 'standard_glued', 2)\n",
    "r2ip.fitting('tee_branch', 'standard_glued')\n",
    "r2ip.fitting('valve', 'ball', 2)\n",
    "r2ip.fitting('valve', 'swing_check')\n",
    "\n",
    "### injection point to DAF ###\n",
    "# pipe paramters\n",
    "ip2DAF_size = 8        # in. (nom)\n",
    "ip2DAF_length = 180    # ft\n",
    "ip2DAF = Pipe(ip2DAF_length, ip2DAF_size, 'PVC', sch=80)    # pipe object\n",
    "\n",
    "# fittings for injection point to DAF\n",
    "ip2DAF.fitting('elbow_90', 'standard_glued', 20)\n",
    "ip2DAF.fitting('tee_branch', 'standard_glued',2)\n",
    "ip2DAF.fitting('valve', 'butterfly', 2)\n",
    "ip2DAF.fitting('valve', 'swing_check')\n",
    "ip2DAF.fitting('static_mixer', 'standard_threaded', 1, 2)\n",
    "ip2DAF.fitting('flow_meter', 'standard_threaded', 1, 4)\n",
    "\n",
    "#### 2 inch bypass in feed line ###\n",
    "# pipe parameters\n",
    "bypass_size = 2     # in. (nom)\n",
    "bypass_length = 5   # ft\n",
    "bypass = Pipe(bypass_length, bypass_size, kind='PVC', sch=80)    # pipe object\n",
    "\n",
    "# fittings in bypass\n",
    "bypass.fitting('valve', 'gate')\n",
    "bypass.fitting('tee_branch', 'standard_glued', 2)\n"
   ]
  },
  {
   "cell_type": "markdown",
   "metadata": {},
   "source": [
    "## Major and Minor Losses Calculations\n",
    "Losses are calculated using flow vector (Q_vec)"
   ]
  },
  {
   "cell_type": "code",
   "execution_count": 7,
   "metadata": {},
   "outputs": [],
   "source": [
    "# Calculating losses for pipes and fittings \n",
    "pipes = [s2p, p2r, r2ip, ip2DAF, bypass]  # list of pipe sections previously created\n",
    "\n",
    "losses = []\n",
    "# calculating losses for all pipes and fittings\n",
    "for each_pipe in pipes:\n",
    "    q_list = []\n",
    "    for each_flow in Q_vec:\n",
    "        q_list.append(each_pipe.get_losses(each_flow))\n",
    "    losses.append(q_list)\n",
    "\n",
    "# identify suction side losses\n",
    "suc_losses = losses[0]\n",
    "# sum all sections for discharge side losses\n",
    "dis_losses = sum(np.array(losses[1:]))\n",
    "Q_vec = list(Q_vec)\n",
    "\n",
    "# report findings\n",
    "#print(tools.report_losses(suc_losses, Q_vec, 'suction losses'))\n",
    "#print(tools.report_losses(dis_losses, Q_vec, 'discharge losses'))"
   ]
  },
  {
   "cell_type": "code",
   "execution_count": 8,
   "metadata": {},
   "outputs": [
    {
     "data": {
      "text/plain": [
       "list"
      ]
     },
     "execution_count": 8,
     "metadata": {},
     "output_type": "execute_result"
    }
   ],
   "source": [
    "type(list(Q_vec))"
   ]
  },
  {
   "cell_type": "markdown",
   "metadata": {},
   "source": [
    "## Pumping Head Calculations\n",
    "Total Dynamic Head Calculations for the system"
   ]
  },
  {
   "cell_type": "code",
   "execution_count": 9,
   "metadata": {},
   "outputs": [
    {
     "data": {
      "image/png": "[encoded data removed]",
      "text/plain": [
       "<Figure size 432x288 with 1 Axes>"
      ]
     },
     "metadata": {
      "needs_background": "light"
     },
     "output_type": "display_data"
    }
   ],
   "source": [
    "########### Pumping Head Calculations #############\n",
    "\n",
    "# suction head\n",
    "suc_head = [x - storage.deadstorage for x in suc_losses]\n",
    "# discharge head\n",
    "dis_head = [x + outlet_height for x in dis_losses] \n",
    "# total dynamic head condition for each flow in Q_vec\n",
    "tdh = [sum(x) for x in zip(dis_head, suc_head)]\n",
    "\n",
    "# Output result as System Curve\n",
    "plt.plot(Q_vec, tdh)\n",
    "plt.title('System Curve')\n",
    "plt.xlabel('flow (gpm)')\n",
    "plt.ylabel('head (ft)')\n",
    "plt.grid()"
   ]
  },
  {
   "cell_type": "markdown",
   "metadata": {},
   "source": [
    "## Specify Pump for FTW Injection\n",
    "Create pump object and get curve data"
   ]
  },
  {
   "cell_type": "code",
   "execution_count": 10,
   "metadata": {},
   "outputs": [
    {
     "name": "stdout",
     "output_type": "stream",
     "text": [
      "(1, 'Goulds', '3657 1.5x2 -6: 3SS', 110, 105)\n",
      "(2, 'Goulds', '3642-1x1_25-3500', 20, 30)\n",
      "(3, 'Grundfos', 'CM10-2-A-S-G-V-AQQV', 60, 110)\n",
      "(4, 'Goulds', '25GS50', 25, 520)\n",
      "(5, 'Goulds', '35GS50', 35, 420)\n",
      "(6, 'Goulds', '75GS100CB', 75, 395)\n",
      "(7, 'Goulds', '85GS100', 80, 390)\n",
      "(8, 'Grundfos', 'CMBE 5-62', 20, 197)\n",
      "(9, 'Goulds', '85GS75', 80, 305)\n",
      "(10, 'Grundfos', '85S100-9', 80, 375)\n"
     ]
    }
   ],
   "source": [
    "########## Pump Specification ############\n",
    "\n",
    "# create injection pump\n",
    "inj_pump = Pump()\n",
    "inj_pump.available_pumps()"
   ]
  },
  {
   "cell_type": "code",
   "execution_count": 11,
   "metadata": {},
   "outputs": [
    {
     "name": "stdout",
     "output_type": "stream",
     "text": [
      "[(2, 'Goulds', '3642-1x1_25-3500', 30, 0, 20, 40, 21, 30, 45.0, 3500, '3.1875', '[0, 5, 10, 15, 20, 25, 30]', '[40, 38, 36, 34, 30, 27, 21]', '[0.0, 30.0, 37.0, 42.0, 45.0, 43.0, 40.0]')]\n",
      "Pump loaded from database\n"
     ]
    },
    {
     "ename": "TypeError",
     "evalue": "'Figure' object is not callable",
     "output_type": "error",
     "traceback": [
      "\u001b[0;31m---------------------------------------------------------------------------\u001b[0m",
      "\u001b[0;31mTypeError\u001b[0m                                 Traceback (most recent call last)",
      "\u001b[0;32m<ipython-input-11-5f6090e32426>\u001b[0m in \u001b[0;36m<module>\u001b[0;34m\u001b[0m\n\u001b[1;32m      1\u001b[0m \u001b[0;31m# load pump data for Goulds 3642\u001b[0m\u001b[0;34m\u001b[0m\u001b[0;34m\u001b[0m\u001b[0;34m\u001b[0m\u001b[0m\n\u001b[1;32m      2\u001b[0m \u001b[0minj_pump\u001b[0m\u001b[0;34m.\u001b[0m\u001b[0mload_pump\u001b[0m\u001b[0;34m(\u001b[0m\u001b[0;34m'Goulds'\u001b[0m\u001b[0;34m,\u001b[0m \u001b[0;34m'3642-1x1_25-3500'\u001b[0m\u001b[0;34m)\u001b[0m\u001b[0;34m\u001b[0m\u001b[0;34m\u001b[0m\u001b[0m\n\u001b[0;32m----> 3\u001b[0;31m \u001b[0minj_pump\u001b[0m\u001b[0;34m.\u001b[0m\u001b[0mplot_curve\u001b[0m\u001b[0;34m(\u001b[0m\u001b[0mtarget_flow\u001b[0m\u001b[0;34m=\u001b[0m\u001b[0mQ_vec\u001b[0m\u001b[0;34m,\u001b[0m \u001b[0mtdh\u001b[0m\u001b[0;34m=\u001b[0m\u001b[0mtdh\u001b[0m\u001b[0;34m)\u001b[0m\u001b[0;34m\u001b[0m\u001b[0;34m\u001b[0m\u001b[0m\n\u001b[0m",
      "\u001b[0;32m~/github/water/Water/pumps.py\u001b[0m in \u001b[0;36mplot_curve\u001b[0;34m(self, target_flow, tdh, vfd, eff)\u001b[0m\n\u001b[1;32m    292\u001b[0m \u001b[0;34m\u001b[0m\u001b[0m\n\u001b[1;32m    293\u001b[0m         \u001b[0mself\u001b[0m\u001b[0;34m.\u001b[0m\u001b[0mfig\u001b[0m\u001b[0;34m,\u001b[0m \u001b[0mself\u001b[0m\u001b[0;34m.\u001b[0m\u001b[0max\u001b[0m \u001b[0;34m=\u001b[0m \u001b[0mplt\u001b[0m\u001b[0;34m.\u001b[0m\u001b[0msubplots\u001b[0m\u001b[0;34m(\u001b[0m\u001b[0;36m2\u001b[0m\u001b[0;34m,\u001b[0m\u001b[0;36m1\u001b[0m\u001b[0;34m,\u001b[0m\u001b[0;34m)\u001b[0m\u001b[0;34m\u001b[0m\u001b[0;34m\u001b[0m\u001b[0m\n\u001b[0;32m--> 294\u001b[0;31m         \u001b[0mself\u001b[0m\u001b[0;34m.\u001b[0m\u001b[0mfig\u001b[0m\u001b[0;34m(\u001b[0m\u001b[0mfigsize\u001b[0m\u001b[0;34m=\u001b[0m\u001b[0;34m(\u001b[0m\u001b[0;36m12\u001b[0m\u001b[0;34m,\u001b[0m\u001b[0;36m8\u001b[0m\u001b[0;34m)\u001b[0m\u001b[0;34m)\u001b[0m\u001b[0;34m\u001b[0m\u001b[0;34m\u001b[0m\u001b[0m\n\u001b[0m\u001b[1;32m    295\u001b[0m \u001b[0;34m\u001b[0m\u001b[0m\n\u001b[1;32m    296\u001b[0m         \u001b[0;32mif\u001b[0m \u001b[0meff\u001b[0m\u001b[0;34m:\u001b[0m\u001b[0;34m\u001b[0m\u001b[0;34m\u001b[0m\u001b[0m\n",
      "\u001b[0;31mTypeError\u001b[0m: 'Figure' object is not callable"
     ]
    },
    {
     "data": {
      "image/png": "[encoded data removed]",
      "text/plain": [
       "<Figure size 432x288 with 2 Axes>"
      ]
     },
     "metadata": {
      "needs_background": "light"
     },
     "output_type": "display_data"
    }
   ],
   "source": [
    "# load pump data for Goulds 3642\n",
    "inj_pump.load_pump('Goulds', '3642-1x1_25-3500')\n",
    "inj_pump.plot_curve(target_flow=Q_vec, tdh=tdh)"
   ]
  },
  {
   "cell_type": "markdown",
   "metadata": {},
   "source": [
    "## Find Cv value required for control valve "
   ]
  },
  {
   "cell_type": "code",
   "execution_count": null,
   "metadata": {},
   "outputs": [],
   "source": [
    "# find head on pump curve for desired flows\n",
    "head = [inj_pump.find_head(x) for x in Q_vec]\n",
    "\n",
    "# find difference between pump curve head and system curve\n",
    "delta_p = [x-y for x,y in zip(head, tdh)]\n",
    "\n",
    "# calculate Cv value required to meet pump curve\n",
    "Cv = [q / np.sqrt(dp) for q, dp in zip(Q_vec, delta_p)]\n",
    "\n",
    "# create new system curve with added Cv from control valve\n",
    "tdh_with_valve = [sum(x) for x in zip(tdh, delta_p)]"
   ]
  },
  {
   "cell_type": "markdown",
   "metadata": {},
   "source": [
    "## Valve data selected from manufactures chart for 1-1/4\" valve with 30 deg v-port"
   ]
  },
  {
   "cell_type": "markdown",
   "metadata": {},
   "source": [
    "<img src=\"v_port.png\">"
   ]
  },
  {
   "cell_type": "code",
   "execution_count": null,
   "metadata": {},
   "outputs": [],
   "source": [
    "# data from selected V8 series valve with 30 degree port mfg chart\n",
    "Cv_valve = [0.0, 0.2, 0.4, 1.1, 2.0, 3.7, 5.5, 8.0, 10.0, 13.0, 15.0]\n",
    "valve_pos = [0, 15, 20, 30, 40, 50, 60, 70, 80, 90, 100]   # percent open\n",
    "\n",
    "# plot valve curve\n",
    "plt.plot(valve_pos, Cv_valve)\n",
    "plt.title(\"V-Series Control Ball Valve w/ 30deg port\")\n",
    "plt.xlabel(\"% Open\")\n",
    "plt.ylabel(\"Cv value\")\n",
    "plt.grid()"
   ]
  },
  {
   "cell_type": "markdown",
   "metadata": {},
   "source": [
    "## Calculate Control Valve Position by interpolating data "
   ]
  },
  {
   "cell_type": "code",
   "execution_count": null,
   "metadata": {},
   "outputs": [],
   "source": [
    "control_pos = [np.interp(x, Cv_valve, valve_pos) for x in Cv]\n",
    "pos_str = [\"{:.1f}\".format(x) + \" %\" for x in control_pos]  # string output for graphing"
   ]
  },
  {
   "cell_type": "markdown",
   "metadata": {},
   "source": [
    "## Plot adjusted system curve with pump curve and original system curve"
   ]
  },
  {
   "cell_type": "code",
   "execution_count": null,
   "metadata": {},
   "outputs": [],
   "source": [
    "# create plots for system curve, pump curve, adjusted system curve\n",
    "# (the rest of this code is just for plotting a graph of the results)\n",
    "plt.figure(figsize=(12,4))\n",
    "# pump curve\n",
    "plt.plot(inj_pump.flow, inj_pump.head)\n",
    "# system curve (no valve)\n",
    "plt.plot(Q_vec, tdh)\n",
    "# adujsted system curve (with valve)\n",
    "plt.plot(Q_vec, tdh_with_valve, lw=3, color='red')\n",
    "plt.fill_between(Q_vec, tdh_with_valve, tdh, facecolor=\"palegreen\")\n",
    "for i, txt in enumerate(pos_str):\n",
    "    plt.annotate(txt, xy=(Q_vec[i], tdh_with_valve[i]), fontsize=10)\n",
    "plt.title(\"Pump Curve and System Curve using Control Valve\")\n",
    "plt.xlabel(\"Flow (gpm)\")\n",
    "plt.ylabel(\"Head (ft)\")\n",
    "plt.xlim((12,25))\n",
    "plt.text(Q_vec[3], tdh[-1] + 20, \"(% Open)\")\n",
    "plt.grid()\n",
    "plt.legend(['pump curve','sys curve (no valve)', 'sys curve (with valve)'])\n"
   ]
  },
  {
   "cell_type": "code",
   "execution_count": null,
   "metadata": {},
   "outputs": [],
   "source": []
  }
 ],
 "metadata": {
  "kernelspec": {
   "display_name": "Python 3",
   "language": "python",
   "name": "python3"
  },
  "language_info": {
   "codemirror_mode": {
    "name": "ipython",
    "version": 3
   },
   "file_extension": ".py",
   "mimetype": "text/x-python",
   "name": "python",
   "nbconvert_exporter": "python",
   "pygments_lexer": "ipython3",
   "version": "3.7.1"
  }
 },
 "nbformat": 4,
 "nbformat_minor": 2
}
